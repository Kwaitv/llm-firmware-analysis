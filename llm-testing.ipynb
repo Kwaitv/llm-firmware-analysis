{
 "cells": [
  {
   "cell_type": "code",
   "execution_count": 1,
   "id": "caadf0b0-4446-4a32-b318-b4a398f85955",
   "metadata": {
    "scrolled": true
   },
   "outputs": [
    {
     "name": "stderr",
     "output_type": "stream",
     "text": [
      "Unused kwargs: ['_load_in_4bit', '_load_in_8bit', 'quant_method']. These kwargs are not used in <class 'transformers.utils.quantization_config.BitsAndBytesConfig'>.\n",
      "`low_cpu_mem_usage` was None, now default to True since model is quantized.\n",
      "Device set to use cuda:0\n"
     ]
    }
   ],
   "source": [
    "# Use a pipeline as a high-level helper\n",
    "from transformers import pipeline\n",
    "\n",
    "#obj_file = \"stream-disasm.txt\" \n",
    "obj_file = \"stream-decomp.txt\" \n",
    "dis = \"\"\n",
    "with open(obj_file, 'r') as file:\n",
    "    dis = file.read()\n",
    "\n",
    "\n",
    "pipe = pipeline(\"text-generation\", model=\"unsloth/llama-3-8b-Instruct-bnb-4bit\")\n",
    "\n",
    "\n",
    "def query(text):\n",
    "    message = []\n",
    "    for i in text:\n",
    "        message.append({\"role\": \"user\", \"content\": i})\n",
    "    output = pipe(message)\n",
    "    return output\n"
   ]
  },
  {
   "cell_type": "code",
   "execution_count": 2,
   "id": "03022ad6-bb5e-46c7-82a5-e332421bfcdd",
   "metadata": {
    "scrolled": true
   },
   "outputs": [],
   "source": [
    "queries = [\n",
    "    \"{} what does this assembly do?\".format(dis),\n",
    "    \"what inputs parameters does the function take as input?\",\n",
    "    \"what type of data does the function return?\",\n",
    "]\n",
    "\n",
    "output = query(queries)"
   ]
  },
  {
   "cell_type": "code",
   "execution_count": 9,
   "id": "40937303-718d-448b-bfe5-94e7c46efed6",
   "metadata": {},
   "outputs": [
    {
     "data": {
      "text/plain": [
       "{'generated_text': [{'role': 'user',\n",
       "   'content': 'undefined8 main(void)\\n{\\n    int64_t iVar1;\\n    int64_t iVar2;\\n    int64_t iVar3;\\n    undefined8 uVar4;\\n    uint32_t uVar5;\\n    code *pcVar6;\\n    double *pdVar7;\\n    int64_t iVar8;\\n    double *pdVar9;\\n    uint64_t uVar10;\\n    undefined4 uVar12;\\n    undefined4 *puVar11;\\n    undefined4 *puVar13;\\n    int64_t in_FS_OFFSET;\\n    uint8_t uVar14;\\n    double dVar15;\\n    double dVar16;\\n    int64_t var_190h;\\n    int64_t var_180h;\\n    int64_t var_178h;\\n    int64_t var_130h;\\n    double adStack_e0 [10];\\n    double adStack_90 [10];\\n    int64_t canary;\\n    \\n    // [13] -r-x section size 2610 named .text\\n    uVar14 = 0;\\n    canary = *(int64_t *)(in_FS_OFFSET + 0x28);\\n    puts(\"-------------------------------------------------------------\");\\n    puts(\"STREAM version $Revision: 5.10 $\");\\n    puts(\"-------------------------------------------------------------\");\\n    printf(\"This system uses %d bytes per array element.\\\\n\", 8);\\n    puts(\"-------------------------------------------------------------\");\\n    printf(0x416312d000000000, \"Array size = %.0f (elements), Offset = %d (elements)\\\\n\", 0);\\n    printf(0x405312d000000000, 0x3fb312d000000000, \"Memory per array = %.1f MiB (= %.1f GiB).\\\\n\");\\n    printf(0x406c9c3800000000, 0x3fcc9c3800000000, \"Total memory required = %.1f MiB (= %.1f GiB).\\\\n\");\\n    uVar12 = 0;\\n    printf(\"Each kernel will be executed %d times.\\\\n\", 10);\\n    puts(\" The *best* time for each kernel (excluding the first iteration)\");\\n    puts(\" will be used to compute the reported bandwidth.\");\\n    pcVar6 = (code *)0x0;\\n    do {\\n        *(undefined8 *)(data.0989a8c0 + (int64_t)pcVar6 * 8) = 0x3ff0000000000000;\\n        *(undefined8 *)(data.04c4f4c0 + (int64_t)pcVar6 * 8) = 0x4000000000000000;\\n        pcVar6 = pcVar6 + 1;\\n    } while (pcVar6 != data.00989680);\\n    puVar11 = (undefined4 *)data.000040c0;\\n    for (pcVar6 = data.01312d00; pcVar6 != (code *)0x0; pcVar6 = pcVar6 + -1) {\\n        *puVar11 = 0;\\n        puVar11 = puVar11 + (uint64_t)uVar14 * -2 + 1;\\n    }\\n    puts(\"-------------------------------------------------------------\");\\n    uVar5 = fcn.0000162b();\\n    if ((int32_t)uVar5 < 1) {\\n        puts(\"Your clock granularity appears to be less than one microsecond.\");\\n        uVar5 = 1;\\n    } else {\\n        uVar10 = (uint64_t)uVar5;\\n        printf(\"Your clock granularity/precision appears to be %d microseconds.\\\\n\", uVar10);\\n        uVar12 = (undefined4)(uVar10 >> 0x20);\\n    }\\n    dVar15 = (double)fcn.000015d9();\\n    pdVar7 = (double *)data.0989a8c0;\\n    do {\\n        pdVar9 = pdVar7 + 1;\\n        *pdVar7 = *pdVar7 + *pdVar7;\\n        pdVar7 = pdVar9;\\n    } while (pdVar9 != (double *)0xe4e5cc0);\\n    dVar16 = (double)fcn.000015d9();\\n    dVar15 = (dVar16 - dVar15) * 1000000.0;\\n    printf(\"Each test below will take on the order of %d microseconds.\\\\n\", CONCAT44(uVar12, (int32_t)dVar15));\\n    printf(\"   (= %d clock ticks)\\\\n\", (int32_t)(dVar15 / (double)uVar5));\\n    puts(\"Increase the size of the arrays if this shows that\");\\n    puts(\"you are not getting at least 20 clock ticks per test.\");\\n    puts(\"-------------------------------------------------------------\");\\n    puts(\"WARNING -- The above is only a rough guideline.\");\\n    puts(\"For best results, please be sure you know the\");\\n    puts(\"precision of your system timer.\");\\n    puts(\"-------------------------------------------------------------\");\\n    pdVar7 = (double *)&var_180h;\\n    do {\\n        dVar15 = (double)fcn.000015d9();\\n        puVar11 = (undefined4 *)data.0989a8c0;\\n        puVar13 = (undefined4 *)data.000040c0;\\n        for (pcVar6 = data.01312d00; pcVar6 != (code *)0x0; pcVar6 = pcVar6 + -1) {\\n            *puVar13 = *puVar11;\\n            puVar11 = puVar11 + (uint64_t)uVar14 * -2 + 1;\\n            puVar13 = puVar13 + (uint64_t)uVar14 * -2 + 1;\\n        }\\n        dVar16 = (double)fcn.000015d9();\\n        *pdVar7 = dVar16 - dVar15;\\n        dVar15 = (double)fcn.000015d9();\\n        pcVar6 = (code *)0x0;\\n        do {\\n            *(double *)(data.04c4f4c0 + (int64_t)pcVar6 * 8) = *(double *)(data.000040c0 + (int64_t)pcVar6 * 8) * 3.0;\\n            pcVar6 = pcVar6 + 1;\\n        } while (pcVar6 != data.00989680);\\n        dVar16 = (double)fcn.000015d9();\\n        pdVar7[10] = dVar16 - dVar15;\\n        dVar15 = (double)fcn.000015d9();\\n        pcVar6 = (code *)0x0;\\n        do {\\n            *(double *)(data.000040c0 + (int64_t)pcVar6 * 8) =\\n                 *(double *)(data.0989a8c0 + (int64_t)pcVar6 * 8) + *(double *)(data.04c4f4c0 + (int64_t)pcVar6 * 8);\\n            pcVar6 = pcVar6 + 1;\\n        } while (pcVar6 != data.00989680);\\n        dVar16 = (double)fcn.000015d9();\\n        pdVar7[0x14] = dVar16 - dVar15;\\n        dVar15 = (double)fcn.000015d9();\\n        pcVar6 = (code *)0x0;\\n        do {\\n            *(double *)(data.0989a8c0 + (int64_t)pcVar6 * 8) =\\n                 *(double *)(data.000040c0 + (int64_t)pcVar6 * 8) * 3.0 +\\n                 *(double *)(data.04c4f4c0 + (int64_t)pcVar6 * 8);\\n            pcVar6 = pcVar6 + 1;\\n        } while (pcVar6 != data.00989680);\\n        pdVar9 = pdVar7 + 1;\\n        dVar16 = (double)fcn.000015d9();\\n        pdVar7[0x1e] = dVar16 - dVar15;\\n        pdVar7 = pdVar9;\\n    } while (pdVar9 != (double *)&var_130h);\\n    pdVar7 = (double *)&var_178h;\\n    do {\\n        iVar8 = 0;\\n        pdVar9 = pdVar7;\\n        do {\\n            dVar15 = *pdVar9;\\n            pdVar9 = pdVar9 + 10;\\n            dVar16 = *(double *)(data.00004080 + iVar8 * 8);\\n            if (*(double *)(data.00004080 + iVar8 * 8) <= dVar15) {\\n                dVar16 = dVar15;\\n            }\\n            *(double *)(data.000040a0 + iVar8 * 8) = *(double *)(data.000040a0 + iVar8 * 8) + dVar15;\\n            *(double *)(data.00004080 + iVar8 * 8) = dVar16;\\n            dVar16 = *(double *)(data.00004040 + iVar8 * 8);\\n            if (dVar15 <= *(double *)(data.00004040 + iVar8 * 8)) {\\n                dVar16 = dVar15;\\n            }\\n            *(double *)(data.00004040 + iVar8 * 8) = dVar16;\\n            iVar8 = iVar8 + 1;\\n        } while (iVar8 != 4);\\n        pdVar7 = pdVar7 + 1;\\n    } while (pdVar7 != (double *)&var_130h);\\n    iVar8 = 0;\\n    puts(\"Function    Best Rate MB/s  Avg time     Min time     Max time\");\\n    do {\\n        iVar3 = iVar8 * 8;\\n        iVar1 = iVar8 * 8;\\n        iVar2 = iVar8 * 8;\\n        uVar4 = *(undefined8 *)(iVar8 * 8 + 0x3dc0);\\n        dVar15 = *(double *)(data.000040a0 + iVar8 * 8);\\n        *(double *)(data.000040a0 + iVar8 * 8) = dVar15 / 9.0;\\n        iVar8 = iVar8 + 1;\\n        printf((*(double *)(data.000025e0 + iVar1) * 1e-06) / *(double *)(data.00004040 + iVar3), dVar15 / 9.0, \\n               *(double *)(data.00004040 + iVar3), *(undefined8 *)(data.00004080 + iVar2), \\n               \"%s%12.1f  %11.6f  %11.6f  %11.6f\\\\n\", uVar4);\\n    } while (iVar8 != 4);\\n    puts(\"-------------------------------------------------------------\");\\n    fcn.000016e1();\\n    puts(\"-------------------------------------------------------------\");\\n    if (canary != *(int64_t *)(in_FS_OFFSET + 0x28)) {\\n    // WARNING: Subroutine does not return\\n        __stack_chk_fail();\\n    }\\n    return 0;\\n}\\n what does this assembly do?'},\n",
       "  {'role': 'user',\n",
       "   'content': 'what inputs parameters does the function take as input?'},\n",
       "  {'role': 'user', 'content': 'what type of data does the function return?'},\n",
       "  {'role': 'assistant',\n",
       "   'content': 'Based on the assembly code you provided, it appears to be a part of a program that performs some sort of benchmarking or measurement of system performance. The function seems to be a main function, and it does not return any specific type of data.\\n\\nHowever, the function does print out various messages and statistics to the console, including:\\n\\n* The version of the STREAM benchmark\\n* The clock granularity and precision\\n* The memory requirements for the benchmark\\n* The best rate, average time, minimum time, and maximum time for each kernel\\n* A warning about the importance of knowing the precision of the system timer\\n\\nThe function also calls several other functions, including `fcn.0000162b()`, `fcn.000015d9()`, and `fcn.000016e1()`, which are not shown in the provided code. These functions likely perform some sort of measurement or calculation to determine the statistics that are printed out.\\n\\nOverall, the function appears to be a part of a program that is designed to measure and report on the performance of a system, and it does not return any specific type of data.'}]}"
      ]
     },
     "execution_count": 9,
     "metadata": {},
     "output_type": "execute_result"
    }
   ],
   "source": [
    "output[-1]"
   ]
  }
 ],
 "metadata": {
  "kernelspec": {
   "display_name": "Python 3 (ipykernel)",
   "language": "python",
   "name": "python3"
  },
  "language_info": {
   "codemirror_mode": {
    "name": "ipython",
    "version": 3
   },
   "file_extension": ".py",
   "mimetype": "text/x-python",
   "name": "python",
   "nbconvert_exporter": "python",
   "pygments_lexer": "ipython3",
   "version": "3.9.18"
  }
 },
 "nbformat": 4,
 "nbformat_minor": 5
}
